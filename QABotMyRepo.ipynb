{
  "cells": [
    {
      "cell_type": "code",
      "execution_count": null,
      "metadata": {
        "colab": {
          "base_uri": "https://localhost:8080/"
        },
        "id": "6eX8b7vdCVJF",
        "outputId": "55d3bc35-0338-4df8-ffc8-5f0240da1fdc"
      },
      "outputs": [],
      "source": [
        "# Requirement\n",
        "!pip install openai -q\n",
        "!pip install langchain -q\n",
        "!pip install chromadb -q\n",
        "!pip install tiktoken -q\n",
        "!pip install unstructured[local-inference] -q\n",
        "!pip install pypdf\n",
        "!pip install gradio -q\n",
        "!pip install python-dotenv\n",
        "!pip install tabulate"
      ]
    },
    {
      "cell_type": "code",
      "execution_count": null,
      "metadata": {
        "colab": {
          "base_uri": "https://localhost:8080/"
        },
        "id": "l0E8NympDGVK",
        "outputId": "e0af0891-576e-4be6-9167-1738e93c7de8"
      },
      "outputs": [],
      "source": [
        "#nb the default google colab runtime loads PIL 8.4.0 and it won't work with unstructured document loader (see above dependency). \n",
        "import PIL\n",
        "print(PIL.__version__)"
      ]
    },
    {
      "cell_type": "code",
      "execution_count": null,
      "metadata": {
        "colab": {
          "base_uri": "https://localhost:8080/",
          "height": 607
        },
        "id": "KRwnYjP0DKA6",
        "outputId": "1995ef10-b8e4-4e5b-bc21-9a65c0cfa947"
      },
      "outputs": [],
      "source": [
        "!pip uninstall Pillow\n",
        "!pip install --upgrade Pillow\n",
        "print(PIL.__version__)"
      ]
    },
    {
      "cell_type": "code",
      "execution_count": null,
      "metadata": {
        "id": "JLHudc48C-l5"
      },
      "outputs": [],
      "source": [
        "from langchain.embeddings.openai import OpenAIEmbeddings\n",
        "from langchain.vectorstores import Chroma\n",
        "from langchain.text_splitter import CharacterTextSplitter\n",
        "from langchain.chains import ConversationalRetrievalChain\n",
        "from dotenv import load_dotenv\n",
        "import os\n",
        "\n",
        "load_dotenv()\n",
        "#print(os.getenv(\"OPENAI_API_KEY\"))\n",
        "\n",
        "#os.environ[\"OPENAI_API_KEY\"] = \"\"\n",
        "\n",
        "from langchain.chat_models import ChatOpenAI\n",
        "llm = ChatOpenAI(temperature=0,model_name=\"gpt-4\")"
      ]
    },
    {
      "cell_type": "code",
      "execution_count": null,
      "metadata": {
        "colab": {
          "base_uri": "https://localhost:8080/"
        },
        "id": "IaywQ5R1DkBW",
        "outputId": "8f23ce07-39b2-4882-fb07-6347cc4fc492"
      },
      "outputs": [],
      "source": [
        "# Data Ingestion\n",
        "from langchain.document_loaders import DirectoryLoader\n",
        "#from langchain.document_loaders import PyPDFLoader\n",
        "#below directory loader not working with pdf file for some reason, so using PDFMinerLoader temporarily\n",
        "pdf_loader = DirectoryLoader('./Reports', glob=\"**/*.pdf\")\n",
        "txt_loader = DirectoryLoader('./Reports', glob=\"**/*.txt\")\n",
        "word_loader = DirectoryLoader('./Reports', glob=\"**/*.docx\")\n",
        "\n",
        "#pdf_loader = PyPDFLoader(\"E:\\Generative AI Projects\\Gradio Chatbot\\GradioChatbotRetrieval\\Reports\\Star_Atlas_ economics-paper.pdf\")\n",
        "\n",
        "loaders = [pdf_loader, txt_loader, word_loader]\n",
        "#loaders = [txt_loader, word_loader]\n",
        "#loaders = [pdf_loader]\n",
        "documents = []\n",
        "for loader in loaders:\n",
        "    documents.extend(loader.load())\n",
        "\n",
        "print(f\"Total number of documents: {len(documents)}\")"
      ]
    },
    {
      "cell_type": "code",
      "execution_count": null,
      "metadata": {
        "id": "BaJ4O4R6ENsw"
      },
      "outputs": [],
      "source": [
        "# Chunk and Embeddings\n",
        "text_splitter = CharacterTextSplitter(chunk_size=1000, chunk_overlap=0)\n",
        "documents = text_splitter.split_documents(documents)\n",
        "\n",
        "embeddings = OpenAIEmbeddings()\n",
        "vectorstore = Chroma.from_documents(documents, embeddings)"
      ]
    },
    {
      "cell_type": "code",
      "execution_count": null,
      "metadata": {
        "id": "k-ADRjHdEX6P"
      },
      "outputs": [],
      "source": [
        "from langchain.memory import ConversationBufferMemory\n",
        "\n",
        "# Initialise Langchain - Conversation Retrieval Chain\n",
        "#qa = ConversationalRetrievalChain.from_llm(ChatOpenAI(temperature=0), vectorstore.as_retriever(), return_source_documents=True)\n",
        "\n",
        "memory = ConversationBufferMemory(\n",
        "        memory_key='chat_history', return_messages=True, output_key='answer')\n",
        "qa = ConversationalRetrievalChain.from_llm(\n",
        "    ChatOpenAI(temperature=0), \n",
        "    vectorstore.as_retriever(), \n",
        "    memory=memory,\n",
        "    get_chat_history=lambda h : h,\n",
        "    return_source_documents=True)\n"
      ]
    },
    {
      "cell_type": "code",
      "execution_count": null,
      "metadata": {
        "colab": {
          "base_uri": "https://localhost:8080/",
          "height": 634
        },
        "id": "goQwW0FkFBxC",
        "outputId": "d3b39b60-b4fb-4de2-acba-3db449856453"
      },
      "outputs": [],
      "source": [
        "# Front end web app\n",
        "from langchain.memory import ChatMessageHistory\n",
        "from langchain.schema import messages_from_dict, messages_to_dict\n",
        "from langchain.llms import OpenAI\n",
        "from langchain.chains import ConversationChain\n",
        "\n",
        "\n",
        "import gradio as gr\n",
        "with gr.Blocks() as demo:\n",
        "    chatbot = gr.Chatbot()\n",
        "    msg = gr.Textbox()\n",
        "    clear = gr.Button(\"Clear\")\n",
        "    #chat_history = ()\n",
        "    context = ChatMessageHistory()\n",
        "    memory = ConversationBufferMemory(\n",
        "        memory_key='chat_history', return_messages=True, output_key='answer')\n",
        "    \n",
        "    def respond(user_message, chat_history):\n",
        " \n",
        "        # Get response from QA chain\n",
        "        response = qa({\"question\": user_message, \"chat_history\": chat_history})\n",
        "        # Append user message and response to chat history\n",
        "        chat_history.append((user_message, response[\"answer\"]))\n",
        "        return gr.update(value=\"\"), chat_history\n",
        "    msg.submit(respond, [msg, chatbot], [msg, chatbot], queue=False)\n",
        "    clear.click(lambda: None, None, chatbot, queue=False)\n",
        "\n",
        "if __name__ == \"__main__\":\n",
        "    demo.launch(debug=True)"
      ]
    }
  ],
  "metadata": {
    "colab": {
      "authorship_tag": "ABX9TyPmyu9Z273BU4aRBIAKLqoZ",
      "provenance": []
    },
    "kernelspec": {
      "display_name": "Python 3",
      "name": "python3"
    },
    "language_info": {
      "codemirror_mode": {
        "name": "ipython",
        "version": 3
      },
      "file_extension": ".py",
      "mimetype": "text/x-python",
      "name": "python",
      "nbconvert_exporter": "python",
      "pygments_lexer": "ipython3",
      "version": "3.10.10"
    }
  },
  "nbformat": 4,
  "nbformat_minor": 0
}
