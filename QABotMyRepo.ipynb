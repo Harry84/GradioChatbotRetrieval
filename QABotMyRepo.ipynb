{
  "cells": [
    {
      "cell_type": "code",
      "execution_count": 1,
      "metadata": {
        "colab": {
          "base_uri": "https://localhost:8080/"
        },
        "id": "6eX8b7vdCVJF",
        "outputId": "55d3bc35-0338-4df8-ffc8-5f0240da1fdc"
      },
      "outputs": [
        {
          "name": "stdout",
          "output_type": "stream",
          "text": [
            "Note: you may need to restart the kernel to use updated packages.\n",
            "Note: you may need to restart the kernel to use updated packages.\n",
            "Note: you may need to restart the kernel to use updated packages.\n",
            "Note: you may need to restart the kernel to use updated packages.\n",
            "Note: you may need to restart the kernel to use updated packages.\n",
            "Requirement already satisfied: pypdf in e:\\generative ai projects\\gradio chatbot\\venv\\lib\\site-packages (3.9.0)\n",
            "Note: you may need to restart the kernel to use updated packages.\n",
            "Note: you may need to restart the kernel to use updated packages.\n",
            "Requirement already satisfied: python-dotenv in e:\\generative ai projects\\gradio chatbot\\venv\\lib\\site-packages (1.0.0)Note: you may need to restart the kernel to use updated packages.\n",
            "\n",
            "Requirement already satisfied: tabulate in e:\\generative ai projects\\gradio chatbot\\venv\\lib\\site-packages (0.9.0)\n",
            "Note: you may need to restart the kernel to use updated packages.\n",
            "Requirement already satisfied: huggingface_hub in e:\\generative ai projects\\gradio chatbot\\venv\\lib\\site-packages (0.15.1)\n",
            "Requirement already satisfied: filelock in e:\\generative ai projects\\gradio chatbot\\venv\\lib\\site-packages (from huggingface_hub) (3.12.0)\n",
            "Requirement already satisfied: fsspec in e:\\generative ai projects\\gradio chatbot\\venv\\lib\\site-packages (from huggingface_hub) (2023.5.0)\n",
            "Requirement already satisfied: requests in e:\\generative ai projects\\gradio chatbot\\venv\\lib\\site-packages (from huggingface_hub) (2.31.0)\n",
            "Requirement already satisfied: tqdm>=4.42.1 in e:\\generative ai projects\\gradio chatbot\\venv\\lib\\site-packages (from huggingface_hub) (4.65.0)\n",
            "Requirement already satisfied: pyyaml>=5.1 in e:\\generative ai projects\\gradio chatbot\\venv\\lib\\site-packages (from huggingface_hub) (6.0)\n",
            "Requirement already satisfied: typing-extensions>=3.7.4.3 in e:\\generative ai projects\\gradio chatbot\\venv\\lib\\site-packages (from huggingface_hub) (4.6.2)\n",
            "Requirement already satisfied: packaging>=20.9 in e:\\generative ai projects\\gradio chatbot\\venv\\lib\\site-packages (from huggingface_hub) (23.1)\n",
            "Requirement already satisfied: colorama in e:\\generative ai projects\\gradio chatbot\\venv\\lib\\site-packages (from tqdm>=4.42.1->huggingface_hub) (0.4.6)\n",
            "Requirement already satisfied: charset-normalizer<4,>=2 in e:\\generative ai projects\\gradio chatbot\\venv\\lib\\site-packages (from requests->huggingface_hub) (3.1.0)\n",
            "Requirement already satisfied: idna<4,>=2.5 in e:\\generative ai projects\\gradio chatbot\\venv\\lib\\site-packages (from requests->huggingface_hub) (3.4)\n",
            "Requirement already satisfied: urllib3<3,>=1.21.1 in e:\\generative ai projects\\gradio chatbot\\venv\\lib\\site-packages (from requests->huggingface_hub) (2.0.2)\n",
            "Requirement already satisfied: certifi>=2017.4.17 in e:\\generative ai projects\\gradio chatbot\\venv\\lib\\site-packages (from requests->huggingface_hub) (2023.5.7)\n",
            "Note: you may need to restart the kernel to use updated packages.\n",
            "Requirement already satisfied: InstructorEmbedding in e:\\generative ai projects\\gradio chatbot\\venv\\lib\\site-packages (1.0.1)\n",
            "Note: you may need to restart the kernel to use updated packages.\n",
            "Requirement already satisfied: sentence_transformers in e:\\generative ai projects\\gradio chatbot\\venv\\lib\\site-packages (2.2.2)\n",
            "Requirement already satisfied: transformers<5.0.0,>=4.6.0 in e:\\generative ai projects\\gradio chatbot\\venv\\lib\\site-packages (from sentence_transformers) (4.29.2)\n",
            "Requirement already satisfied: tqdm in e:\\generative ai projects\\gradio chatbot\\venv\\lib\\site-packages (from sentence_transformers) (4.65.0)\n",
            "Requirement already satisfied: torch>=1.6.0 in e:\\generative ai projects\\gradio chatbot\\venv\\lib\\site-packages (from sentence_transformers) (2.0.1)\n",
            "Requirement already satisfied: torchvision in e:\\generative ai projects\\gradio chatbot\\venv\\lib\\site-packages (from sentence_transformers) (0.15.2)\n",
            "Requirement already satisfied: numpy in e:\\generative ai projects\\gradio chatbot\\venv\\lib\\site-packages (from sentence_transformers) (1.23.5)\n",
            "Requirement already satisfied: scikit-learn in e:\\generative ai projects\\gradio chatbot\\venv\\lib\\site-packages (from sentence_transformers) (1.3.0)\n",
            "Requirement already satisfied: scipy in e:\\generative ai projects\\gradio chatbot\\venv\\lib\\site-packages (from sentence_transformers) (1.10.1)\n",
            "Requirement already satisfied: nltk in e:\\generative ai projects\\gradio chatbot\\venv\\lib\\site-packages (from sentence_transformers) (3.8.1)\n",
            "Requirement already satisfied: sentencepiece in e:\\generative ai projects\\gradio chatbot\\venv\\lib\\site-packages (from sentence_transformers) (0.1.99)\n",
            "Requirement already satisfied: huggingface-hub>=0.4.0 in e:\\generative ai projects\\gradio chatbot\\venv\\lib\\site-packages (from sentence_transformers) (0.15.1)\n",
            "Requirement already satisfied: filelock in e:\\generative ai projects\\gradio chatbot\\venv\\lib\\site-packages (from huggingface-hub>=0.4.0->sentence_transformers) (3.12.0)\n",
            "Requirement already satisfied: fsspec in e:\\generative ai projects\\gradio chatbot\\venv\\lib\\site-packages (from huggingface-hub>=0.4.0->sentence_transformers) (2023.5.0)\n",
            "Requirement already satisfied: requests in e:\\generative ai projects\\gradio chatbot\\venv\\lib\\site-packages (from huggingface-hub>=0.4.0->sentence_transformers) (2.31.0)\n",
            "Requirement already satisfied: pyyaml>=5.1 in e:\\generative ai projects\\gradio chatbot\\venv\\lib\\site-packages (from huggingface-hub>=0.4.0->sentence_transformers) (6.0)\n",
            "Requirement already satisfied: typing-extensions>=3.7.4.3 in e:\\generative ai projects\\gradio chatbot\\venv\\lib\\site-packages (from huggingface-hub>=0.4.0->sentence_transformers) (4.6.2)\n",
            "Requirement already satisfied: packaging>=20.9 in e:\\generative ai projects\\gradio chatbot\\venv\\lib\\site-packages (from huggingface-hub>=0.4.0->sentence_transformers) (23.1)\n",
            "Requirement already satisfied: sympy in e:\\generative ai projects\\gradio chatbot\\venv\\lib\\site-packages (from torch>=1.6.0->sentence_transformers) (1.12)\n",
            "Requirement already satisfied: networkx in e:\\generative ai projects\\gradio chatbot\\venv\\lib\\site-packages (from torch>=1.6.0->sentence_transformers) (3.1)\n",
            "Requirement already satisfied: jinja2 in e:\\generative ai projects\\gradio chatbot\\venv\\lib\\site-packages (from torch>=1.6.0->sentence_transformers) (3.1.2)\n",
            "Requirement already satisfied: colorama in e:\\generative ai projects\\gradio chatbot\\venv\\lib\\site-packages (from tqdm->sentence_transformers) (0.4.6)\n",
            "Requirement already satisfied: regex!=2019.12.17 in e:\\generative ai projects\\gradio chatbot\\venv\\lib\\site-packages (from transformers<5.0.0,>=4.6.0->sentence_transformers) (2023.5.5)\n",
            "Requirement already satisfied: tokenizers!=0.11.3,<0.14,>=0.11.1 in e:\\generative ai projects\\gradio chatbot\\venv\\lib\\site-packages (from transformers<5.0.0,>=4.6.0->sentence_transformers) (0.13.3)\n",
            "Requirement already satisfied: click in e:\\generative ai projects\\gradio chatbot\\venv\\lib\\site-packages (from nltk->sentence_transformers) (8.1.3)\n",
            "Requirement already satisfied: joblib in e:\\generative ai projects\\gradio chatbot\\venv\\lib\\site-packages (from nltk->sentence_transformers) (1.2.0)\n",
            "Requirement already satisfied: threadpoolctl>=2.0.0 in e:\\generative ai projects\\gradio chatbot\\venv\\lib\\site-packages (from scikit-learn->sentence_transformers) (3.1.0)\n",
            "Requirement already satisfied: pillow!=8.3.*,>=5.3.0 in e:\\generative ai projects\\gradio chatbot\\venv\\lib\\site-packages (from torchvision->sentence_transformers) (9.5.0)\n",
            "Requirement already satisfied: MarkupSafe>=2.0 in e:\\generative ai projects\\gradio chatbot\\venv\\lib\\site-packages (from jinja2->torch>=1.6.0->sentence_transformers) (2.1.2)\n",
            "Requirement already satisfied: charset-normalizer<4,>=2 in e:\\generative ai projects\\gradio chatbot\\venv\\lib\\site-packages (from requests->huggingface-hub>=0.4.0->sentence_transformers) (3.1.0)\n",
            "Requirement already satisfied: idna<4,>=2.5 in e:\\generative ai projects\\gradio chatbot\\venv\\lib\\site-packages (from requests->huggingface-hub>=0.4.0->sentence_transformers) (3.4)\n",
            "Requirement already satisfied: urllib3<3,>=1.21.1 in e:\\generative ai projects\\gradio chatbot\\venv\\lib\\site-packages (from requests->huggingface-hub>=0.4.0->sentence_transformers) (2.0.2)\n",
            "Requirement already satisfied: certifi>=2017.4.17 in e:\\generative ai projects\\gradio chatbot\\venv\\lib\\site-packages (from requests->huggingface-hub>=0.4.0->sentence_transformers) (2023.5.7)\n",
            "Requirement already satisfied: mpmath>=0.19 in e:\\generative ai projects\\gradio chatbot\\venv\\lib\\site-packages (from sympy->torch>=1.6.0->sentence_transformers) (1.3.0)\n",
            "Note: you may need to restart the kernel to use updated packages.\n"
          ]
        }
      ],
      "source": [
        "# Requirements\n",
        "%pip install openai -q\n",
        "%pip install langchain -q\n",
        "%pip install chromadb -q\n",
        "%pip install tiktoken -q\n",
        "%pip install unstructured[local-inference] -q\n",
        "%pip install pypdf\n",
        "%pip install gradio -q\n",
        "%pip install python-dotenv\n",
        "%pip install tabulate\n",
        "%pip install huggingface_hub\n",
        "%pip install InstructorEmbedding\n",
        "%pip install sentence_transformers\n"
      ]
    },
    {
      "cell_type": "code",
      "execution_count": 12,
      "metadata": {
        "id": "JLHudc48C-l5"
      },
      "outputs": [],
      "source": [
        "from langchain.embeddings.openai import OpenAIEmbeddings\n",
        "from langchain.vectorstores import Chroma\n",
        "from langchain.text_splitter import CharacterTextSplitter\n",
        "from langchain.chains import ConversationalRetrievalChain\n",
        "from langchain.llms import HuggingFaceHub\n",
        "from langchain.embeddings import OpenAIEmbeddings, HuggingFaceInstructEmbeddings\n",
        "from dotenv import load_dotenv\n",
        "import os\n",
        "\n",
        "load_dotenv()\n",
        "\n",
        "#os.environ[\"OPENAI_API_KEY\"] = \"\"\n",
        "os.environ[\"HUGGINGFACEHUB_API_TOKEN\"] = \"\" \n",
        "\n",
        "#OPENAI_API_KEY=os.getenv(\"OPENAI_API_KEY\")\n",
        "#HUGGINGFACEHUB_API_TOKEN=os.getenv(\"HUGGINGFACEHUB_API_TOKEN\")\n",
        "\n",
        "from langchain.chat_models import ChatOpenAI\n",
        "#llm = ChatOpenAI(temperature=0,model_name=\"gpt-4\")\n",
        "\n",
        "llm = HuggingFaceHub(repo_id=\"google/flan-t5-xxl\", model_kwargs={\"temperature\":0.5, \"max_length\":512})"
      ]
    },
    {
      "cell_type": "code",
      "execution_count": 13,
      "metadata": {
        "colab": {
          "base_uri": "https://localhost:8080/"
        },
        "id": "IaywQ5R1DkBW",
        "outputId": "8f23ce07-39b2-4882-fb07-6347cc4fc492"
      },
      "outputs": [
        {
          "name": "stdout",
          "output_type": "stream",
          "text": [
            "Total number of documents: 3\n"
          ]
        }
      ],
      "source": [
        "# Data Ingestion\n",
        "from langchain.document_loaders import DirectoryLoader\n",
        "\n",
        "pdf_loader = DirectoryLoader('./Reports', glob=\"**/*.pdf\")\n",
        "txt_loader = DirectoryLoader('./Reports', glob=\"**/*.txt\")\n",
        "word_loader = DirectoryLoader('./Reports', glob=\"**/*.docx\")\n",
        "\n",
        "loaders = [pdf_loader, txt_loader, word_loader]\n",
        "#loaders = [txt_loader, word_loader]\n",
        "#loaders = [pdf_loader]\n",
        "documents = []\n",
        "for loader in loaders:\n",
        "    documents.extend(loader.load())\n",
        "\n",
        "print(f\"Total number of documents: {len(documents)}\")"
      ]
    },
    {
      "cell_type": "code",
      "execution_count": 14,
      "metadata": {
        "id": "BaJ4O4R6ENsw"
      },
      "outputs": [
        {
          "name": "stderr",
          "output_type": "stream",
          "text": [
            "Created a chunk of size 1445, which is longer than the specified 1000\n",
            "Created a chunk of size 1587, which is longer than the specified 1000\n",
            "Created a chunk of size 1160, which is longer than the specified 1000\n",
            "Downloading (…)7f436/.gitattributes: 100%|██████████| 1.48k/1.48k [00:00<?, ?B/s]\n",
            "Downloading (…)_Pooling/config.json: 100%|██████████| 270/270 [00:00<00:00, 270kB/s]\n",
            "Downloading (…)/2_Dense/config.json: 100%|██████████| 116/116 [00:00<00:00, 116kB/s]\n",
            "Downloading pytorch_model.bin: 100%|██████████| 3.15M/3.15M [00:00<00:00, 8.32MB/s]\n",
            "Downloading (…)0daf57f436/README.md: 100%|██████████| 66.3k/66.3k [00:00<00:00, 11.1MB/s]\n",
            "Downloading (…)af57f436/config.json: 100%|██████████| 1.52k/1.52k [00:00<?, ?B/s]\n",
            "Downloading (…)ce_transformers.json: 100%|██████████| 122/122 [00:00<?, ?B/s] \n",
            "Downloading pytorch_model.bin: 100%|██████████| 4.96G/4.96G [08:40<00:00, 9.53MB/s]\n",
            "Downloading (…)nce_bert_config.json: 100%|██████████| 53.0/53.0 [00:00<00:00, 52.8kB/s]\n",
            "Downloading (…)cial_tokens_map.json: 100%|██████████| 2.20k/2.20k [00:00<?, ?B/s]\n",
            "Downloading spiece.model: 100%|██████████| 792k/792k [00:00<00:00, 9.90MB/s]\n",
            "Downloading (…)7f436/tokenizer.json: 100%|██████████| 2.42M/2.42M [00:00<00:00, 8.47MB/s]\n",
            "Downloading (…)okenizer_config.json: 100%|██████████| 2.40k/2.40k [00:00<?, ?B/s]\n",
            "Downloading (…)f57f436/modules.json: 100%|██████████| 461/461 [00:00<?, ?B/s] \n"
          ]
        },
        {
          "name": "stdout",
          "output_type": "stream",
          "text": [
            "load INSTRUCTOR_Transformer\n",
            "max_seq_length  512\n"
          ]
        }
      ],
      "source": [
        "# Chunk and Embeddings\n",
        "text_splitter = CharacterTextSplitter(chunk_size=1000, chunk_overlap=0)\n",
        "documents = text_splitter.split_documents(documents)\n",
        "\n",
        "#embeddings = OpenAIEmbeddings()\n",
        "embeddings = HuggingFaceInstructEmbeddings(model_name=\"hkunlp/instructor-xl\")\n",
        "vectorstore = Chroma.from_documents(documents, embeddings)"
      ]
    },
    {
      "cell_type": "code",
      "execution_count": 15,
      "metadata": {
        "id": "k-ADRjHdEX6P"
      },
      "outputs": [],
      "source": [
        "from langchain.memory import ConversationBufferMemory\n",
        "\n",
        "# Initialise Langchain - Conversation Retrieval Chain\n",
        "#qa = ConversationalRetrievalChain.from_llm(ChatOpenAI(temperature=0), vectorstore.as_retriever(), return_source_documents=True)\n",
        "\n",
        "memory = ConversationBufferMemory(\n",
        "        memory_key='chat_history', return_messages=True)\n",
        "qa = ConversationalRetrievalChain.from_llm(\n",
        "    #ChatOpenAI(temperature=0),\n",
        "    llm=HuggingFaceHub(repo_id=\"google/flan-t5-xxl\", model_kwargs={\"temperature\":0.5, \"max_length\":512}), \n",
        "    retriever=vectorstore.as_retriever(), \n",
        "    memory=memory,\n",
        "    #get_chat_history=lambda h : h,\n",
        "    #return_source_documents=True\n",
        "    )\n",
        "\n",
        "#n.b. for ConversationRetrievalChain, history is not a Memory object but an array.  Therefore:\n",
        "#set memory_key to 'chat_history' (default key names are different between ConversationBufferMemory and ConversationalRetrievalChain)\n",
        "#adjust get_chat_history to pass through the history from the memory using lambda h : h\n",
        "#specify 'answer' as the output key when creating the ConversationBufferMemory object as outputs has two keys, answer and source_documents \n",
        "#(which throws an error)\n"
      ]
    },
    {
      "cell_type": "code",
      "execution_count": 16,
      "metadata": {
        "colab": {
          "base_uri": "https://localhost:8080/",
          "height": 634
        },
        "id": "goQwW0FkFBxC",
        "outputId": "d3b39b60-b4fb-4de2-acba-3db449856453"
      },
      "outputs": [
        {
          "name": "stdout",
          "output_type": "stream",
          "text": [
            "Running on local URL:  http://127.0.0.1:7860\n",
            "\n",
            "To create a public link, set `share=True` in `launch()`.\n"
          ]
        },
        {
          "data": {
            "text/html": [
              "<div><iframe src=\"http://127.0.0.1:7860/\" width=\"100%\" height=\"500\" allow=\"autoplay; camera; microphone; clipboard-read; clipboard-write;\" frameborder=\"0\" allowfullscreen></iframe></div>"
            ],
            "text/plain": [
              "<IPython.core.display.HTML object>"
            ]
          },
          "metadata": {},
          "output_type": "display_data"
        },
        {
          "name": "stdout",
          "output_type": "stream",
          "text": [
            "Keyboard interruption in main thread... closing server.\n"
          ]
        }
      ],
      "source": [
        "# Front end web app\n",
        "from langchain.memory import ChatMessageHistory\n",
        "from langchain.llms import OpenAI\n",
        "from langchain.chains import ConversationChain\n",
        "\n",
        "#Gradio Chatbot, whose value stores the entire history of the conversation as a list of response pairs between the user and the Chatbot\n",
        "#A single function, respond(), takes in the entire history of the chatbot (chat_history) and appends latest response pair\n",
        "#It also clears the textbox when it returns\n",
        "\n",
        "import gradio as gr\n",
        "with gr.Blocks() as demo:\n",
        "    chatbot = gr.Chatbot()\n",
        "    msg = gr.Textbox()\n",
        "    clear = gr.Button(\"Clear\")\n",
        "    context = ChatMessageHistory()\n",
        "    memory = ConversationBufferMemory(\n",
        "        memory_key='chat_history', return_messages=True, output_key='answer')\n",
        "    \n",
        "    def respond(user_message, chat_history):\n",
        " \n",
        "        # Get response from QA chain\n",
        "        response = qa({\"question\": user_message, \"chat_history\": chat_history})\n",
        "        # Append user message and response to chat history\n",
        "        chat_history.append((user_message, response[\"answer\"]))\n",
        "        return gr.update(value=\"\"), chat_history\n",
        "    msg.submit(respond, [msg, chatbot], [msg, chatbot], queue=False)\n",
        "    clear.click(lambda: None, None, chatbot, queue=False)\n",
        "\n",
        "if __name__ == \"__main__\":\n",
        "    demo.launch(debug=True)"
      ]
    }
  ],
  "metadata": {
    "colab": {
      "authorship_tag": "ABX9TyPmyu9Z273BU4aRBIAKLqoZ",
      "provenance": []
    },
    "kernelspec": {
      "display_name": "Python 3",
      "name": "python3"
    },
    "language_info": {
      "codemirror_mode": {
        "name": "ipython",
        "version": 3
      },
      "file_extension": ".py",
      "mimetype": "text/x-python",
      "name": "python",
      "nbconvert_exporter": "python",
      "pygments_lexer": "ipython3",
      "version": "3.10.10"
    }
  },
  "nbformat": 4,
  "nbformat_minor": 0
}
