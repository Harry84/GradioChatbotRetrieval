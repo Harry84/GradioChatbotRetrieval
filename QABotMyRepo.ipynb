{
  "nbformat": 4,
  "nbformat_minor": 0,
  "metadata": {
    "colab": {
      "provenance": [],
      "authorship_tag": "ABX9TyPmyu9Z273BU4aRBIAKLqoZ"
    },
    "kernelspec": {
      "name": "python3",
      "display_name": "Python 3"
    },
    "language_info": {
      "name": "python"
    }
  },
  "cells": [
    {
      "cell_type": "code",
      "source": [
        "# Requirement\n",
        "!pip install openai -q\n",
        "!pip install langchain -q\n",
        "!pip install chromadb -q\n",
        "!pip install tiktoken -q\n",
        "!pip install unstructured[local-inference] -q\n",
        "!pip install pypdf\n",
        "!pip install gradio -q"
      ],
      "metadata": {
        "id": "6eX8b7vdCVJF",
        "colab": {
          "base_uri": "https://localhost:8080/"
        },
        "outputId": "55d3bc35-0338-4df8-ffc8-5f0240da1fdc"
      },
      "execution_count": null,
      "outputs": [
        {
          "output_type": "stream",
          "name": "stdout",
          "text": [
            "Looking in indexes: https://pypi.org/simple, https://us-python.pkg.dev/colab-wheels/public/simple/\n",
            "Requirement already satisfied: pypdf in /usr/local/lib/python3.10/dist-packages (3.9.0)\n"
          ]
        }
      ]
    },
    {
      "cell_type": "code",
      "source": [
        "#nb the default google colab runtime loads PIL 8.4.0 and it won't work with unstructured document loader (see above dependency). \n",
        "import PIL\n",
        "print(PIL.__version__)"
      ],
      "metadata": {
        "colab": {
          "base_uri": "https://localhost:8080/"
        },
        "id": "l0E8NympDGVK",
        "outputId": "e0af0891-576e-4be6-9167-1738e93c7de8"
      },
      "execution_count": null,
      "outputs": [
        {
          "output_type": "stream",
          "name": "stdout",
          "text": [
            "9.5.0\n"
          ]
        }
      ]
    },
    {
      "cell_type": "code",
      "source": [
        "!pip uninstall Pillow\n",
        "!pip install --upgrade Pillow\n",
        "print(PIL.__version__)"
      ],
      "metadata": {
        "id": "KRwnYjP0DKA6",
        "colab": {
          "base_uri": "https://localhost:8080/",
          "height": 607
        },
        "outputId": "1995ef10-b8e4-4e5b-bc21-9a65c0cfa947"
      },
      "execution_count": null,
      "outputs": [
        {
          "output_type": "stream",
          "name": "stdout",
          "text": [
            "Found existing installation: Pillow 9.5.0\n",
            "Uninstalling Pillow-9.5.0:\n",
            "  Would remove:\n",
            "    /usr/local/lib/python3.10/dist-packages/PIL/*\n",
            "    /usr/local/lib/python3.10/dist-packages/Pillow-9.5.0.dist-info/*\n",
            "    /usr/local/lib/python3.10/dist-packages/Pillow.libs/libXau-154567c4.so.6.0.0\n",
            "    /usr/local/lib/python3.10/dist-packages/Pillow.libs/libbrotlicommon-92722cb2.so.1\n",
            "    /usr/local/lib/python3.10/dist-packages/Pillow.libs/libbrotlidec-db4b3db6.so.1.0.9\n",
            "    /usr/local/lib/python3.10/dist-packages/Pillow.libs/libfreetype-cb9caf6f.so.6.19.0\n",
            "    /usr/local/lib/python3.10/dist-packages/Pillow.libs/libharfbuzz-3543f599.so.0.60710.0\n",
            "    /usr/local/lib/python3.10/dist-packages/Pillow.libs/libjpeg-f2134fdd.so.62.3.0\n",
            "    /usr/local/lib/python3.10/dist-packages/Pillow.libs/liblcms2-12745711.so.2.0.15\n",
            "    /usr/local/lib/python3.10/dist-packages/Pillow.libs/liblzma-95592ee6.so.5.4.2\n",
            "    /usr/local/lib/python3.10/dist-packages/Pillow.libs/libopenjp2-78c47f58.so.2.5.0\n",
            "    /usr/local/lib/python3.10/dist-packages/Pillow.libs/libpng16-cb42a3c6.so.16.39.0\n",
            "    /usr/local/lib/python3.10/dist-packages/Pillow.libs/libsharpyuv-9340467d.so.0.0.0\n",
            "    /usr/local/lib/python3.10/dist-packages/Pillow.libs/libtiff-b9364ff1.so.6.0.0\n",
            "    /usr/local/lib/python3.10/dist-packages/Pillow.libs/libwebp-3ee34a0b.so.7.1.6\n",
            "    /usr/local/lib/python3.10/dist-packages/Pillow.libs/libwebpdemux-785dd7eb.so.2.0.12\n",
            "    /usr/local/lib/python3.10/dist-packages/Pillow.libs/libwebpmux-ddfacf1d.so.3.0.11\n",
            "    /usr/local/lib/python3.10/dist-packages/Pillow.libs/libxcb-3e83370d.so.1.1.0\n",
            "Proceed (Y/n)? y\n",
            "  Successfully uninstalled Pillow-9.5.0\n",
            "Looking in indexes: https://pypi.org/simple, https://us-python.pkg.dev/colab-wheels/public/simple/\n",
            "Collecting Pillow\n",
            "  Using cached Pillow-9.5.0-cp310-cp310-manylinux_2_28_x86_64.whl (3.4 MB)\n",
            "Installing collected packages: Pillow\n",
            "Successfully installed Pillow-9.5.0\n"
          ]
        },
        {
          "output_type": "display_data",
          "data": {
            "application/vnd.colab-display-data+json": {
              "pip_warning": {
                "packages": [
                  "PIL"
                ]
              }
            }
          },
          "metadata": {}
        },
        {
          "output_type": "stream",
          "name": "stdout",
          "text": [
            "8.4.0\n"
          ]
        }
      ]
    },
    {
      "cell_type": "code",
      "source": [
        "from langchain.embeddings.openai import OpenAIEmbeddings\n",
        "from langchain.vectorstores import Chroma\n",
        "from langchain.text_splitter import CharacterTextSplitter\n",
        "from langchain.chains import ConversationalRetrievalChain\n",
        "\n",
        "\n",
        "import os\n",
        "os.environ[\"OPENAI_API_KEY\"] = \"\"\n",
        "from langchain.chat_models import ChatOpenAI\n",
        "llm = ChatOpenAI(temperature=0,model_name=\"gpt-4\")"
      ],
      "metadata": {
        "id": "JLHudc48C-l5"
      },
      "execution_count": null,
      "outputs": []
    },
    {
      "cell_type": "code",
      "source": [
        "# Data Ingestion\n",
        "from langchain.document_loaders import DirectoryLoader\n",
        "from langchain.document_loaders import PyPDFLoader\n",
        "#below directory loader not working with pdf file for some reason, so using PDFMinerLoader temporarily\n",
        "#pdf_loader = DirectoryLoader('/content/Reports', glob=\"**/*.pdf\")\n",
        "txt_loader = DirectoryLoader('/content/Reports', glob=\"**/*.txt\")\n",
        "word_loader = DirectoryLoader('/content/Reports', glob=\"**/*.docx\")\n",
        "\n",
        "pdf_loader = PyPDFLoader(\"/content/Reports/HAI_AI-Index-Report_2023.pdf\")\n",
        "\n",
        "loaders = [pdf_loader, txt_loader, word_loader]\n",
        "#loaders = [txt_loader, word_loader]\n",
        "#loaders = [pdf_loader]\n",
        "documents = []\n",
        "for loader in loaders:\n",
        "    documents.extend(loader.load())\n",
        "\n",
        "print(f\"Total number of documents: {len(documents)}\")"
      ],
      "metadata": {
        "colab": {
          "base_uri": "https://localhost:8080/"
        },
        "id": "IaywQ5R1DkBW",
        "outputId": "8f23ce07-39b2-4882-fb07-6347cc4fc492"
      },
      "execution_count": null,
      "outputs": [
        {
          "output_type": "stream",
          "name": "stdout",
          "text": [
            "Total number of documents: 388\n"
          ]
        }
      ]
    },
    {
      "cell_type": "code",
      "source": [
        "# Chunk and Embeddings\n",
        "text_splitter = CharacterTextSplitter(chunk_size=1000, chunk_overlap=0)\n",
        "documents = text_splitter.split_documents(documents)\n",
        "\n",
        "embeddings = OpenAIEmbeddings()\n",
        "vectorstore = Chroma.from_documents(documents, embeddings)"
      ],
      "metadata": {
        "id": "BaJ4O4R6ENsw"
      },
      "execution_count": null,
      "outputs": []
    },
    {
      "cell_type": "code",
      "source": [
        "from langchain.memory import ConversationBufferMemory\n",
        "\n",
        "# Initialise Langchain - Conversation Retrieval Chain\n",
        "#qa = ConversationalRetrievalChain.from_llm(ChatOpenAI(temperature=0), vectorstore.as_retriever(), return_source_documents=True)\n",
        "\n",
        "memory = ConversationBufferMemory(\n",
        "        memory_key='chat_history', return_messages=True, output_key='answer')\n",
        "qa = ConversationalRetrievalChain.from_llm(\n",
        "    ChatOpenAI(temperature=0), \n",
        "    vectorstore.as_retriever(), \n",
        "    memory=memory,\n",
        "    get_chat_history=lambda h : h,\n",
        "    return_source_documents=True)\n"
      ],
      "metadata": {
        "id": "k-ADRjHdEX6P"
      },
      "execution_count": null,
      "outputs": []
    },
    {
      "cell_type": "code",
      "source": [
        "#it won't read the pdf correctly it seems, also it doesn't seem to support chat history as a list any more as it fails on the second question.\n",
        "# Front end web app\n",
        "import json\n",
        "from langchain.memory import ChatMessageHistory\n",
        "from langchain.schema import messages_from_dict, messages_to_dict\n",
        "from langchain.llms import OpenAI\n",
        "from langchain.chains import ConversationChain\n",
        "\n",
        "\n",
        "import gradio as gr\n",
        "with gr.Blocks() as demo:\n",
        "    chatbot = gr.Chatbot()\n",
        "    msg = gr.Textbox()\n",
        "    clear = gr.Button(\"Clear\")\n",
        "    #chat_history = ()\n",
        "    context = ChatMessageHistory()\n",
        "    memory = ConversationBufferMemory(\n",
        "        memory_key='chat_history', return_messages=True, output_key='answer')\n",
        "    #memory.chat_memory.add_user_message(\"hi!\")\n",
        "    #memory.chat_memory.add_ai_message(\"whats up?\")\n",
        "    #print(memory.load_memory_variables({}))\n",
        "    #memory = ConversationBufferMemory(return_messages=True)\n",
        "    #memory.chat_memory.add_user_message(\"hi!\")\n",
        "    #memory.chat_memory.add_ai_message(\"whats up?\")\n",
        "    #print(memory.load_memory_variables({}))\n",
        "\n",
        "    #llm = OpenAI(temperature=0)\n",
        "    #conversation = ConversationChain(\n",
        "    #llm=llm, \n",
        "    #verbose=True, \n",
        "    #memory=ConversationBufferMemory()\n",
        "#)\n",
        "    #conversation.predict(input=\"Hi there!\")\n",
        "\n",
        "    #conversation.predict(input=\"I'm doing well! Just having a conversation with an AI.\")\n",
        "\n",
        "    def dict_to_list(dict_input):\n",
        "      return list(dict_input)\n",
        "\n",
        "    def list_to_dict(list_input):\n",
        "      return dict(list_input)\n",
        "    \n",
        "    def respond(user_message, chat_history):\n",
        "\n",
        "        \n",
        "        # Get response from QA chain\n",
        "        response = qa({\"question\": user_message, \"chat_history\": chat_history})\n",
        "        # Append user message and response to chat history\n",
        "        chat_history.append((user_message, response[\"answer\"]))\n",
        "        return gr.update(value=\"\"), chat_history\n",
        "    msg.submit(respond, [msg, chatbot], [msg, chatbot], queue=False)\n",
        "    clear.click(lambda: None, None, chatbot, queue=False)\n",
        "\n",
        "if __name__ == \"__main__\":\n",
        "    demo.launch(debug=True)"
      ],
      "metadata": {
        "colab": {
          "base_uri": "https://localhost:8080/",
          "height": 634
        },
        "id": "goQwW0FkFBxC",
        "outputId": "d3b39b60-b4fb-4de2-acba-3db449856453"
      },
      "execution_count": null,
      "outputs": [
        {
          "output_type": "stream",
          "name": "stdout",
          "text": [
            "Colab notebook detected. This cell will run indefinitely so that you can see errors and logs. To turn off, set debug=False in launch().\n",
            "Note: opening Chrome Inspector may crash demo inside Colab notebooks.\n",
            "\n",
            "To create a public link, set `share=True` in `launch()`.\n"
          ]
        },
        {
          "output_type": "display_data",
          "data": {
            "text/plain": [
              "<IPython.core.display.Javascript object>"
            ],
            "application/javascript": [
              "(async (port, path, width, height, cache, element) => {\n",
              "                        if (!google.colab.kernel.accessAllowed && !cache) {\n",
              "                            return;\n",
              "                        }\n",
              "                        element.appendChild(document.createTextNode(''));\n",
              "                        const url = await google.colab.kernel.proxyPort(port, {cache});\n",
              "\n",
              "                        const external_link = document.createElement('div');\n",
              "                        external_link.innerHTML = `\n",
              "                            <div style=\"font-family: monospace; margin-bottom: 0.5rem\">\n",
              "                                Running on <a href=${new URL(path, url).toString()} target=\"_blank\">\n",
              "                                    https://localhost:${port}${path}\n",
              "                                </a>\n",
              "                            </div>\n",
              "                        `;\n",
              "                        element.appendChild(external_link);\n",
              "\n",
              "                        const iframe = document.createElement('iframe');\n",
              "                        iframe.src = new URL(path, url).toString();\n",
              "                        iframe.height = height;\n",
              "                        iframe.allow = \"autoplay; camera; microphone; clipboard-read; clipboard-write;\"\n",
              "                        iframe.width = width;\n",
              "                        iframe.style.border = 0;\n",
              "                        element.appendChild(iframe);\n",
              "                    })(7860, \"/\", \"100%\", 500, false, window.element)"
            ]
          },
          "metadata": {}
        },
        {
          "output_type": "stream",
          "name": "stdout",
          "text": [
            "Keyboard interruption in main thread... closing server.\n"
          ]
        }
      ]
    },
    {
      "cell_type": "code",
      "source": [],
      "metadata": {
        "id": "ISjWHiOS5LUU"
      },
      "execution_count": null,
      "outputs": []
    }
  ]
}